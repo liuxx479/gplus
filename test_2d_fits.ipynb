{
 "cells": [
  {
   "cell_type": "code",
   "execution_count": 1,
   "metadata": {
    "collapsed": true
   },
   "outputs": [],
   "source": [
    "from pylab import *\n",
    "from scipy import *\n",
    "from matplotlib.colors import LogNorm\n",
    "from matplotlib import colors\n",
    "from IPython.display import Image\n",
    "from scipy.integrate import quad\n",
    "from scipy import interpolate\n",
    "from scipy.special import jn, gamma\n",
    "from scipy.misc import derivative\n",
    "from scipy.integrate import nquad\n",
    "import camb\n",
    "from camb import model, initialpower"
   ]
  },
  {
   "cell_type": "code",
   "execution_count": 9,
   "metadata": {
    "collapsed": true
   },
   "outputs": [],
   "source": [
    "### constants\n",
    "c = 299792.458#km/s\n",
    "Gnewton = 6.674e-8#cgs cm^3/g/s^2\n",
    "\n",
    "## cosmology WMAP9\n",
    "h = 0.7\n",
    "H0 = h*100\n",
    "oc = 0.236\n",
    "ob = 0.046\n",
    "om = ob+oc\n",
    "ol = 1-om#0.718\n",
    "ns = 0.9646\n",
    "s8 = 0.817\n",
    "#betaD = finterp(0.0)/bD\n",
    "## test array\n",
    "PI_arr=logspace(-0.5, 1, 50)\n",
    "rp_arr = [1.0, 2.0, 5.0, 10.0, 20.0, 40.0]\n",
    "\n",
    "## small functions\n",
    "H = lambda z: H0*sqrt(om*(1+z)**3+ol)\n",
    "H_inv = lambda z:  1/(H0*sqrt(om*(1+z)**3+ol))\n",
    "Hcgs = lambda z: H(z)*3.24e-20\n",
    "DC = lambda z: c*quad(H_inv, 0, z)[0]\n",
    "W_fcn = lambda z: (pz(z) / DC(z))**2 / c * H(z) # dchi/dz = c/H\n",
    "rho_cz = lambda z: 0.375*Hcgs(z)**2/pi/Gnewton\n",
    "\n",
    "Wnorm = quad(W_fcn, zmin, zmax) [0]\n",
    "W_arr = array([W_fcn(iz)/Wnorm for iz in zarr])\n",
    "W = interpolate.interp1d(zarr,W_arr,bounds_error=0,fill_value=0.)"
   ]
  },
  {
   "cell_type": "code",
   "execution_count": 3,
   "metadata": {
    "collapsed": true
   },
   "outputs": [],
   "source": [
    "data_mean = loadtxt('/Users/jia/weaklensing/gplus/fulle_bins2D_cross_jk_final.dat')[:,5].reshape(25,-1).T\n",
    "rp_bins = loadtxt('/Users/jia/weaklensing/gplus/fulle_bins2D_cross_jk_final.dat')[:,0].reshape(25,-1).T\n",
    "pi_bins = loadtxt('/Users/jia/weaklensing/gplus/fulle_bins2D_cross_jk_final.dat')[:,1].reshape(25,-1).T\n",
    "\n",
    "## make a reflection for negative r \n",
    "data_mean2=concatenate([data_mean,data_mean])\n",
    "rp_bins2=concatenate([rp_bins,-rp_bins])\n",
    "pi_bins2=concatenate([pi_bins,pi_bins])\n",
    "\n",
    "icolors=['yellow','cyan','red','blue','mediumpurple']\n",
    "icolors_deep=['darkorange','deepskyblue','maroon','midnightblue','purple']\n",
    "bounds=logspace(-3,0,6)"
   ]
  },
  {
   "cell_type": "code",
   "execution_count": 6,
   "metadata": {
    "collapsed": false
   },
   "outputs": [],
   "source": [
    "zmin,zmax = 0.16, 0.36\n",
    "zcenter,dndz = load('dndz_lowz.npy')\n",
    "pz = interpolate.interp1d(zcenter,dndz,bounds_error=0,fill_value=0.)"
   ]
  },
  {
   "cell_type": "code",
   "execution_count": 7,
   "metadata": {
    "collapsed": false
   },
   "outputs": [
    {
     "name": "stdout",
     "output_type": "stream",
     "text": [
      "Note: redshifts have been re-sorted (earliest first)\n"
     ]
    }
   ],
   "source": [
    "### power spectrum from camb\n",
    "zarr = linspace(zmin, zmax, 21)\n",
    "pars = camb.CAMBparams()\n",
    "pars.set_cosmology(H0=70, ombh2=ob*h**2, omch2=om*h**2)#omch2=oc*h**2)\n",
    "pars.InitPower.set_params(ns=0.965)\n",
    "pars.set_matter_power(redshifts=zarr, kmax=100.0)\n",
    "results = camb.get_results(pars)\n",
    "########### NL power spectrum ########\n",
    "pars.NonLinear = model.NonLinear_both\n",
    "#pars.NonLinear = model.NonLinear_none  #linear\n",
    "results.calc_power_spectra(pars)\n",
    "kh_nonlin, z_nonlin, pk_nonlin = results.get_matter_power_spectrum(minkh=1e-4, maxkh=100.0, npoints = 150)"
   ]
  },
  {
   "cell_type": "code",
   "execution_count": 11,
   "metadata": {
    "collapsed": false
   },
   "outputs": [],
   "source": [
    "########## marko functions\n",
    "\n",
    "kPk = pk_nonlin[0]*kh_nonlin\n",
    "Nk = len(kPk)\n",
    "kPk_fft = fft(kPk) ## FFT\n",
    "klogstep = log(kh_nonlin[1]/kh_nonlin[0])\n",
    "\n",
    "########## now compare how accurate marko's integration is\n",
    "kmin,kmax=kh_nonlin[[0,-1]]\n",
    "ifreq = fftfreq(Nk)##\n",
    "nu_arr = 1j*2*pi*fftfreq(Nk, d=klogstep) ## the argument goes into k^nu_n, now nu_n is nu_arr\n",
    "cn = kPk_fft*kmin**(-nu_arr) \n",
    "\n",
    "#fun_marko = lambda rp, PI, nu: rp**2/(rp**2+PI**2)**(3.0+nu/2.0)*cos(pi*nu/2.0)*gamma(3.0+nu)*( (nu-3.0)*(rp**2+PI**2)+ (rp**2-(3+nu)*PI**2*betaD))/(nu-3.0)/(nu**2-1)\n",
    "fun_marko = lambda rp, PI, nu: rp**2/(rp**2+PI**2)**(2.0+nu/2.0)*cos(pi*nu/2.0)*gamma(3.0+nu)/(1-nu**2)\n",
    "xi_int_marko = lambda rp, PI: sum(cn*fun_marko(rp, PI, nu_arr))/len(nu_arr)\n",
    "marko_arr = array([[xi_int_marko(irp, iPI) for iPI in PI_arr] for irp in rp_arr])"
   ]
  },
  {
   "cell_type": "code",
   "execution_count": null,
   "metadata": {
    "collapsed": true
   },
   "outputs": [],
   "source": []
  }
 ],
 "metadata": {
  "anaconda-cloud": {},
  "kernelspec": {
   "display_name": "Python [default]",
   "language": "python",
   "name": "python2"
  },
  "language_info": {
   "codemirror_mode": {
    "name": "ipython",
    "version": 2
   },
   "file_extension": ".py",
   "mimetype": "text/x-python",
   "name": "python",
   "nbconvert_exporter": "python",
   "pygments_lexer": "ipython2",
   "version": "2.7.12"
  }
 },
 "nbformat": 4,
 "nbformat_minor": 1
}
